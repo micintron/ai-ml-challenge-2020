{
 "cells": [
  {
   "cell_type": "code",
   "execution_count": 2,
   "metadata": {},
   "outputs": [],
   "source": [
    "import pytesseract\n",
    "import cv2\n",
    "import pandas as pd\n",
    "import numpy as np\n",
    "from PIL import Image"
   ]
  },
  {
   "cell_type": "code",
   "execution_count": 11,
   "metadata": {},
   "outputs": [],
   "source": [
    "im = cv2.imread('../app/static/uploads/sample_eula_2-2.png')\n",
    "#img_rgb = cv2.cvtColor(im, cv2.COLOR_BGR2RGB)\n",
    "text = pytesseract.image_to_string(im, config='-c preserve_interword_spaces=1') "
   ]
  },
  {
   "cell_type": "code",
   "execution_count": 12,
   "metadata": {
    "scrolled": true
   },
   "outputs": [
    {
     "name": "stdout",
     "output_type": "stream",
     "text": [
      " \n",
      "\n",
      " \n",
      "\n",
      "COMPANY End User License Master Agreement\n",
      "\n",
      "by copyright laws and international treaty provisions. Therefore, you must treat the SOFTWARE\n",
      "PRODUCT like any other copyrighted material except that you may install the SOFTWARE PRODUCT ona\n",
      "single computer.\n",
      "\n",
      "4. PAYMENTS.\n",
      "4.1 — Licensing/Service Fees. License fees are due at the time of signing the agreement.\n",
      "\n",
      "4.2 — Support and Maintenance Payment. Support and Maintenance is included as part of licensing fee\n",
      "during subscription validity period.\n",
      "\n",
      "4.3 — Overdue Payments. Overdue payments of License Fee required by this Agreement shall accrue\n",
      "interest at the lesser of one and one-half percent (1.5%) per month or the maximum allowable interest\n",
      "under applicable law, from the due date until paid, and Customer shall pay COMPANY's costs of\n",
      "collection, including COMPANY's reasonable attorneys' fees and court costs. COMPANY will suspend any\n",
      "services, support or consulting services otherwise required to be provided to Customer under this\n",
      "Agreement after 2 months of non-payment until all delinquent payments, including interest and costs of\n",
      "collection, have been paid by Customer.\n",
      "\n",
      "4.4 - Returned Checks and Declined Credit Cards may incur a fee.\n",
      "\n",
      "4.5 - Account Updates. It is the responsibility of the Customer to maintain accurate billing information\n",
      "with COMPANY. This may include updated credit card information, email address and mailing address.\n",
      "\n",
      "5. TERM AND TERMINATION.\n",
      "\n",
      "5.1 Term. The initial term of this Agreement shall commence on the Effective Date and shall continue\n",
      "through the Subscription Validity. The term can be renewed in advance, before expiry of subscription\n",
      "validity.\n",
      "\n",
      "5.2 Termination. Recourse against the United States for any alleged breach of this agreement must be\n",
      "made under the terms of the Federal Tort Claims Act or as a dispute under the contract disputes clause\n",
      "(Contract Disputes Act) as applicable. The Contractor shall proceed diligently with performance of this\n",
      "contract, pending final resolution of any request for relief, claim, appeal, or action arising under the\n",
      "contract, and comply with any decision of the Contracting Officer.\n",
      "\n",
      "5.3 Effect of Termination. In the event of any termination of this Agreement for any reason, all rights\n",
      "granted to Customer hereunder shall terminate, and Customer shall immediately discontinue all use of\n",
      "the Application, unless the parties mutually agree to an alternate date that Customer will discontinue\n",
      "use. Promptly upon termination of this Agreement for any reason or upon discontinuance or\n",
      "abandonment of Customer’s use of the Application, immediately return or destroy, as requested by\n",
      "COMPANY at its sole discretion, all other Confidential Information in Customer’s possession. Customer\n",
      "agrees to certify Customer’s compliance with the foregoing requirements upon COMPANY’s request.\n",
      "Subject to Section 5.2, 5.4 and 5.5, upon the termination by either party of this Agreement, neither\n",
      "party shall have any charge, obligation or liability to the other whatsoever, except that Customer shall\n",
      "be obligated to pay the fees due for balance of the applicable term. Except as otherwise expressly\n",
      "provided in this Agreement, the Agreement remains in full force and effect and all other terms and\n",
      "\n",
      "Client Initial:                                            CONFIDENTIAL Page 3 of 8                       COMPANY Initial:\n",
      "\n",
      " \n",
      "\f",
      "\n"
     ]
    }
   ],
   "source": [
    "print(text)"
   ]
  },
  {
   "cell_type": "code",
   "execution_count": 14,
   "metadata": {},
   "outputs": [
    {
     "data": {
      "text/plain": [
       "[' ',\n",
       " ' ',\n",
       " 'COMPANY End User License Master Agreement',\n",
       " 'by copyright laws and international treaty provisions. Therefore, you must treat the SOFTWARE\\nPRODUCT like any other copyrighted material except that you may install the SOFTWARE PRODUCT ona\\nsingle computer.',\n",
       " '4. PAYMENTS.\\n4.1 — Licensing/Service Fees. License fees are due at the time of signing the agreement.',\n",
       " '4.2 — Support and Maintenance Payment. Support and Maintenance is included as part of licensing fee\\nduring subscription validity period.',\n",
       " \"4.3 — Overdue Payments. Overdue payments of License Fee required by this Agreement shall accrue\\ninterest at the lesser of one and one-half percent (1.5%) per month or the maximum allowable interest\\nunder applicable law, from the due date until paid, and Customer shall pay COMPANY's costs of\\ncollection, including COMPANY's reasonable attorneys' fees and court costs. COMPANY will suspend any\\nservices, support or consulting services otherwise required to be provided to Customer under this\\nAgreement after 2 months of non-payment until all delinquent payments, including interest and costs of\\ncollection, have been paid by Customer.\",\n",
       " '4.4 - Returned Checks and Declined Credit Cards may incur a fee.',\n",
       " '4.5 - Account Updates. It is the responsibility of the Customer to maintain accurate billing information\\nwith COMPANY. This may include updated credit card information, email address and mailing address.',\n",
       " '5. TERM AND TERMINATION.',\n",
       " '5.1 Term. The initial term of this Agreement shall commence on the Effective Date and shall continue\\nthrough the Subscription Validity. The term can be renewed in advance, before expiry of subscription\\nvalidity.',\n",
       " '5.2 Termination. Recourse against the United States for any alleged breach of this agreement must be\\nmade under the terms of the Federal Tort Claims Act or as a dispute under the contract disputes clause\\n(Contract Disputes Act) as applicable. The Contractor shall proceed diligently with performance of this\\ncontract, pending final resolution of any request for relief, claim, appeal, or action arising under the\\ncontract, and comply with any decision of the Contracting Officer.',\n",
       " '5.3 Effect of Termination. In the event of any termination of this Agreement for any reason, all rights\\ngranted to Customer hereunder shall terminate, and Customer shall immediately discontinue all use of\\nthe Application, unless the parties mutually agree to an alternate date that Customer will discontinue\\nuse. Promptly upon termination of this Agreement for any reason or upon discontinuance or\\nabandonment of Customer’s use of the Application, immediately return or destroy, as requested by\\nCOMPANY at its sole discretion, all other Confidential Information in Customer’s possession. Customer\\nagrees to certify Customer’s compliance with the foregoing requirements upon COMPANY’s request.\\nSubject to Section 5.2, 5.4 and 5.5, upon the termination by either party of this Agreement, neither\\nparty shall have any charge, obligation or liability to the other whatsoever, except that Customer shall\\nbe obligated to pay the fees due for balance of the applicable term. Except as otherwise expressly\\nprovided in this Agreement, the Agreement remains in full force and effect and all other terms and',\n",
       " 'Client Initial:                                            CONFIDENTIAL Page 3 of 8                       COMPANY Initial:',\n",
       " ' \\n\\x0c']"
      ]
     },
     "execution_count": 14,
     "metadata": {},
     "output_type": "execute_result"
    }
   ],
   "source": [
    "clauses = [clause for clause in text.split('\\n\\n') if clause]\n",
    "clauses"
   ]
  },
  {
   "cell_type": "markdown",
   "metadata": {},
   "source": [
    "* Convert.py - converst pdf to multiple jpgs\n",
    "* for im in glob - for each image in glob by name and number\n",
    "* pytesseract convert to text\n",
    "* text convert to clauses\n",
    "* for each clause:\n",
    "* print clause and predicted label"
   ]
  },
  {
   "cell_type": "code",
   "execution_count": 18,
   "metadata": {},
   "outputs": [
    {
     "data": {
      "text/plain": [
       "167"
      ]
     },
     "execution_count": 18,
     "metadata": {},
     "output_type": "execute_result"
    }
   ],
   "source": [
    "len(clauses[-3].split())"
   ]
  },
  {
   "cell_type": "code",
   "execution_count": 19,
   "metadata": {},
   "outputs": [],
   "source": [
    "import glob"
   ]
  },
  {
   "cell_type": "code",
   "execution_count": 27,
   "metadata": {},
   "outputs": [
    {
     "name": "stdout",
     "output_type": "stream",
     "text": [
      " \n",
      "\n",
      " \n",
      "\n",
      "COMPANY End User License Master Agreement\n",
      "\n",
      "COMPANY END USER LICENSE MASTER\n",
      "AGREEMENT\n",
      "\n",
      "This COMPANY Inc internet service agreement for software license and services (\"COMPANY End User\n",
      "License Master Agreement\") is made as of the Effective Date between COMPANY, Inc., a LOCATION\n",
      "corporation located at ADDRESS (“COMPANY”), and the party/signatory to the attached Purchase Order\n",
      "(\"Customer\"). For good and valuable consideration, the parties hereto, intending to be legally bound,\n",
      "hereby agree as follows:\n",
      "\n",
      "1. DEFINITIONS.\n",
      "\n",
      "1.1 \"Customer\" means the persons, entity or agents and authorized representatives accepting this\n",
      "agreement.\n",
      "\n",
      "2. OWNERSHIP.\n",
      "\n",
      "All Content including any and all intellectual property rights in the Content are owned by COMPANY, and\n",
      "Customer shall make no claim of ownership to any content, including subsequent versions or\n",
      "enhancements to Content made at Customer’s request that are implemented by COMPANY or its\n",
      "licensors. This Agreement does not constitute a Copyright license. COMPANY warrants that is the lawful\n",
      "owner or licensee of all Content made accessible to Customer under this Agreement.\n",
      "\n",
      "3. CONTENT CONTROL.\n",
      "3.1 - Lawful Purpose. Customer will only use COMPANY’s Product & services for lawful purposes.\n",
      "\n",
      "3.2 - The purpose of this software to remove sensitive data permanently from user device as per user\n",
      "preference. The device shall include Windows Desktop, Laptop, Tablet, Server and Android Smartphone\n",
      "and Tablets. It is user choice to go with the software so as to remove the data securely from the device.\n",
      "This way user can protect the data from any exposure. COMPANY overwrite data with built in secure\n",
      "algorithm to remove data sensitivity from user data and securely remove from the disk. In case user do\n",
      "not have permission to remove data COMPANY will not be able to remove such data. COMPANY do not\n",
      "store user data that is getting COMPANY, it only store user registration to verify subscription validity and\n",
      "license key generation. COMPANY provides remote COMPANY facility provided the device is traceable\n",
      "and COMPANY software is not being tampered. COMPANY assumes absolutely no responsibility of data\n",
      "loss from user device.\n",
      "\n",
      "3.3 - This SOFTWARE PRODUCT is protected by Copyright & Patent laws and international copyright\n",
      "treaties, as well as other intellectual property laws and treaties. The SOFTWARE PRODUCT is licensed to\n",
      "use and not sold.\n",
      "\n",
      "3.4 - COMPANY is Patented Product with US approved Patent. All title and copyrights in and to the\n",
      "SOFTWARE PRODUCT (including but not limited to any images, photographs, animations, video, audio,\n",
      "music, text incorporated into the SOFTWARE PRODUCT), the accompanying printed materials, and any\n",
      "copies of the SOFTWARE PRODUCT are owned by COMPANY Inc. The SOFTWARE PRODUCT is\n",
      "\n",
      "Client Initial:                                         CONFIDENTIAL Page 1of8                     COMPANY Initial:\n",
      "\n",
      " \n",
      "\f",
      "\n",
      "../app/static/uploads/sample_eula_2-0.png : 1.1 \"Customer\" means the persons, entity or agents and authorized representatives accepting this\n",
      "agreement.\n",
      " \n",
      "\n",
      "protected\n",
      "\n",
      "Client Initial:                                            CONFIDENTIAL Page 2 of 8                       COMPANY Initial:\n",
      "\n",
      " \n",
      "\n",
      " \n",
      "\f",
      "\n",
      " \n",
      "\n",
      " \n",
      "\n",
      "COMPANY End User License Master Agreement\n",
      "\n",
      "by copyright laws and international treaty provisions. Therefore, you must treat the SOFTWARE\n",
      "PRODUCT like any other copyrighted material except that you may install the SOFTWARE PRODUCT ona\n",
      "single computer.\n",
      "\n",
      "4. PAYMENTS.\n",
      "4.1 — Licensing/Service Fees. License fees are due at the time of signing the agreement.\n",
      "\n",
      "4.2 — Support and Maintenance Payment. Support and Maintenance is included as part of licensing fee\n",
      "during subscription validity period.\n",
      "\n",
      "4.3 — Overdue Payments. Overdue payments of License Fee required by this Agreement shall accrue\n",
      "interest at the lesser of one and one-half percent (1.5%) per month or the maximum allowable interest\n",
      "under applicable law, from the due date until paid, and Customer shall pay COMPANY's costs of\n",
      "collection, including COMPANY's reasonable attorneys' fees and court costs. COMPANY will suspend any\n",
      "services, support or consulting services otherwise required to be provided to Customer under this\n",
      "Agreement after 2 months of non-payment until all delinquent payments, including interest and costs of\n",
      "collection, have been paid by Customer.\n",
      "\n",
      "4.4 - Returned Checks and Declined Credit Cards may incur a fee.\n",
      "\n",
      "4.5 - Account Updates. It is the responsibility of the Customer to maintain accurate billing information\n",
      "with COMPANY. This may include updated credit card information, email address and mailing address.\n",
      "\n",
      "5. TERM AND TERMINATION.\n",
      "\n",
      "5.1 Term. The initial term of this Agreement shall commence on the Effective Date and shall continue\n",
      "through the Subscription Validity. The term can be renewed in advance, before expiry of subscription\n",
      "validity.\n",
      "\n",
      "5.2 Termination. Recourse against the United States for any alleged breach of this agreement must be\n",
      "made under the terms of the Federal Tort Claims Act or as a dispute under the contract disputes clause\n",
      "(Contract Disputes Act) as applicable. The Contractor shall proceed diligently with performance of this\n",
      "contract, pending final resolution of any request for relief, claim, appeal, or action arising under the\n",
      "contract, and comply with any decision of the Contracting Officer.\n",
      "\n",
      "5.3 Effect of Termination. In the event of any termination of this Agreement for any reason, all rights\n",
      "granted to Customer hereunder shall terminate, and Customer shall immediately discontinue all use of\n",
      "the Application, unless the parties mutually agree to an alternate date that Customer will discontinue\n",
      "use. Promptly upon termination of this Agreement for any reason or upon discontinuance or\n",
      "abandonment of Customer’s use of the Application, immediately return or destroy, as requested by\n",
      "COMPANY at its sole discretion, all other Confidential Information in Customer’s possession. Customer\n",
      "agrees to certify Customer’s compliance with the foregoing requirements upon COMPANY’s request.\n",
      "Subject to Section 5.2, 5.4 and 5.5, upon the termination by either party of this Agreement, neither\n",
      "party shall have any charge, obligation or liability to the other whatsoever, except that Customer shall\n",
      "be obligated to pay the fees due for balance of the applicable term. Except as otherwise expressly\n",
      "provided in this Agreement, the Agreement remains in full force and effect and all other terms and\n",
      "\n",
      "Client Initial:                                            CONFIDENTIAL Page 3 of 8                       COMPANY Initial:\n",
      "\n",
      " \n",
      "\f",
      "\n",
      "../app/static/uploads/sample_eula_2-2.png : 4.3 — Overdue Payments. Overdue payments of License Fee required by this Agreement shall accrue\n",
      "interest at the lesser of one and one-half percent (1.5%) per month or the maximum allowable interest\n",
      "under applicable law, from the due date until paid, and Customer shall pay COMPANY's costs of\n",
      "collection, including COMPANY's reasonable attorneys' fees and court costs. COMPANY will suspend any\n",
      "services, support or consulting services otherwise required to be provided to Customer under this\n",
      "Agreement after 2 months of non-payment until all delinquent payments, including interest and costs of\n",
      "collection, have been paid by Customer.\n"
     ]
    }
   ],
   "source": [
    "filename = 'sample_eula_2'\n",
    "for im_path in sorted(glob.glob('../app/static/uploads/' + filename + '*.png')):\n",
    "    im = cv2.imread(im_path)\n",
    "    #img_rgb = cv2.cvtColor(im, cv2.COLOR_BGR2RGB)\n",
    "    text = pytesseract.image_to_string(im, config='-c preserve_interword_spaces=1')\n",
    "    print(text)\n",
    "    clauses = [clause for clause in text.split('\\n\\n') if len(clause) > 10]\n",
    "    try: \n",
    "        print(im_path, \":\", clauses[4])\n",
    "    except:\n",
    "        continue"
   ]
  },
  {
   "cell_type": "code",
   "execution_count": null,
   "metadata": {},
   "outputs": [],
   "source": []
  }
 ],
 "metadata": {
  "kernelspec": {
   "display_name": "gsa",
   "language": "python",
   "name": "gsa"
  },
  "language_info": {
   "codemirror_mode": {
    "name": "ipython",
    "version": 3
   },
   "file_extension": ".py",
   "mimetype": "text/x-python",
   "name": "python",
   "nbconvert_exporter": "python",
   "pygments_lexer": "ipython3",
   "version": "3.6.9"
  }
 },
 "nbformat": 4,
 "nbformat_minor": 4
}
